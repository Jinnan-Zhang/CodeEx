{
 "metadata": {
  "language_info": {
   "codemirror_mode": {
    "name": "ipython",
    "version": 3
   },
   "file_extension": ".py",
   "mimetype": "text/x-python",
   "name": "python",
   "nbconvert_exporter": "python",
   "pygments_lexer": "ipython3",
   "version": "3.6.9-final"
  },
  "orig_nbformat": 2,
  "kernelspec": {
   "name": "python3",
   "display_name": "Python 3"
  }
 },
 "nbformat": 4,
 "nbformat_minor": 2,
 "cells": [
  {
   "cell_type": "code",
   "execution_count": 10,
   "metadata": {},
   "outputs": [
    {
     "output_type": "stream",
     "name": "stdout",
     "text": [
      "Mandelbrot created in 0.142024 s\n"
     ]
    },
    {
     "output_type": "execute_result",
     "data": {
      "text/plain": [
       "<matplotlib.image.AxesImage at 0x7f232ffa1c50>"
      ]
     },
     "metadata": {},
     "execution_count": 10
    },
    {
     "output_type": "display_data",
     "data": {
      "text/plain": "<matplotlib.figure.Figure at 0x7f23300dbfd0>",
      "image/png": "[encoded data removed]"
     },
     "metadata": {
      "needs_background": "light"
     }
    }
   ],
   "source": [
    "from __future__ import print_function, division, absolute_import\n",
    "\n",
    "\n",
    "from timeit import default_timer as timer\n",
    "from matplotlib.pylab import imshow, jet, show, ion\n",
    "import numpy as np\n",
    "from numba import jit\n",
    "\n",
    "@jit\n",
    "def mandel(x, y, max_iters):\n",
    "    \"\"\"\n",
    "    Given the real and imaginary parts of a complex number,\n",
    "    determine if it is a candidate for membership in the Mandelbrot\n",
    "    set given a fixed number of iterations.\n",
    "    \"\"\"\n",
    "    i = 0\n",
    "    c = complex(x,y)\n",
    "    z = 0.0j\n",
    "    for i in range(max_iters):\n",
    "        z = z*z + c\n",
    "        if (z.real*z.real + z.imag*z.imag) >= 4:\n",
    "            return i\n",
    "\n",
    "    return 255\n",
    "\n",
    "@jit\n",
    "def create_fractal(min_x, max_x, min_y, max_y, image, iters):\n",
    "    height = image.shape[0]\n",
    "    width = image.shape[1]\n",
    "\n",
    "    pixel_size_x = (max_x - min_x) / width\n",
    "    pixel_size_y = (max_y - min_y) / height\n",
    "    for x in range(width):\n",
    "        real = min_x + x * pixel_size_x\n",
    "        for y in range(height):\n",
    "            imag = min_y + y * pixel_size_y\n",
    "            color = mandel(real, imag, iters)\n",
    "            image[y, x] = color\n",
    "\n",
    "    return image\n",
    "\n",
    "image = np.zeros((1024, 1536), dtype = np.uint8)\n",
    "start = timer()\n",
    "create_fractal(-2.0, 1.7, -0.1, 0.1, image, 20) \n",
    "dt = timer() - start\n",
    "\n",
    "print( \"Mandelbrot created in %f s\" % dt)\n",
    "imshow(image)\n",
    "# show()"
   ]
  },
  {
   "cell_type": "code",
   "execution_count": 100,
   "metadata": {},
   "outputs": [
    {
     "output_type": "stream",
     "name": "stdout",
     "text": [
      "cpu: [ 0.          0.2244898   0.44897959  0.67346939  0.89795918  1.12244898\n",
      "  1.34693878  1.57142857  1.79591837  2.02040816  2.24489796  2.46938776\n",
      "  2.69387755  2.91836735  3.14285714  3.36734694  3.59183673  3.81632653\n",
      "  4.04081633  4.26530612  4.48979592  4.71428571  4.93877551  5.16326531\n",
      "  5.3877551   5.6122449   5.83673469  6.06122449  6.28571429  6.51020408\n",
      "  6.73469388  6.95918367  7.18367347  7.40816327  7.63265306  7.85714286\n",
      "  8.08163265  8.30612245  8.53061224  8.75510204  8.97959184  9.20408163\n",
      "  9.42857143  9.65306122  9.87755102 10.10204082 10.32653061 10.55102041\n",
      " 10.7755102  11.        ]\n",
      "32.6 µs ± 1.08 µs per loop (mean ± std. dev. of 7 runs, 10000 loops each)\n",
      "gpu:  [ 0.          0.2244898   0.44897959  0.67346939  0.89795918  1.12244898\n",
      "  1.34693878  1.57142857  1.79591837  2.02040816  2.24489796  2.46938776\n",
      "  2.69387755  2.91836735  3.14285714  3.36734694  3.59183673  3.81632653\n",
      "  4.04081633  4.26530612  4.48979592  4.71428571  4.93877551  5.16326531\n",
      "  5.3877551   5.6122449   5.83673469  6.06122449  6.28571429  6.51020408\n",
      "  6.73469388  6.95918367  7.18367347  7.40816327  7.63265306  7.85714286\n",
      "  8.08163265  8.30612245  8.53061224  8.75510204  8.97959184  9.20408163\n",
      "  9.42857143  9.65306122  9.87755102 10.10204082 10.32653061 10.55102041\n",
      " 10.7755102  11.        ]\n",
      "12.2 µs ± 137 ns per loop (mean ± std. dev. of 7 runs, 100000 loops each)\n"
     ]
    }
   ],
   "source": [
    "import cupy as cp\n",
    "from numba import jit\n",
    "\n",
    "@jit(parallel=True)\n",
    "def np_add(x,y):\n",
    "    return x+y\n",
    "\n",
    "# @jit\n",
    "def cp_add(x,y):\n",
    "    return x+y\n",
    "a=np.linspace(1,10)\n",
    "b=np.linspace(-1,1)\n",
    "x=cp.asarray(a)\n",
    "y=cp.asarray(b)\n",
    "\n",
    "print(\"cpu:\", np_add(a,b))\n",
    "%timeit np_add(a,b)\n",
    "print(\"gpu: \",cp_add(x,y))\n",
    "%timeit cp_add(x,y)"
   ]
  }
 ]
}