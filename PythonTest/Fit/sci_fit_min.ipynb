{
 "metadata": {
  "language_info": {
   "codemirror_mode": {
    "name": "ipython",
    "version": 3
   },
   "file_extension": ".py",
   "mimetype": "text/x-python",
   "name": "python",
   "nbconvert_exporter": "python",
   "pygments_lexer": "ipython3",
   "version": "3.8.6-final"
  },
  "orig_nbformat": 2,
  "kernelspec": {
   "name": "Python 3.8.6 64-bit",
   "display_name": "Python 3.8.6 64-bit",
   "metadata": {
    "interpreter": {
     "hash": "dc55abbfba4177c591f83324fa5697a9eafd8002c77e792cad2bc3c2939fbd3f"
    }
   }
  }
 },
 "nbformat": 4,
 "nbformat_minor": 2,
 "cells": [
  {
   "cell_type": "code",
   "execution_count": 6,
   "metadata": {},
   "outputs": [
    {
     "output_type": "execute_result",
     "data": {
      "text/plain": [
       "      fun: 4.3612100042031123e-13\n",
       " hess_inv: array([[ 0.00021362, -0.00139981],\n",
       "       [-0.00139981,  0.01917581]])\n",
       "      jac: array([-1.14851370e-08,  2.80316176e-07])\n",
       "  message: 'Optimization terminated successfully.'\n",
       "     nfev: 24\n",
       "      nit: 5\n",
       "     njev: 6\n",
       "   status: 0\n",
       "  success: True\n",
       "        x: array([  0.99999999, -19.99999992])"
      ]
     },
     "metadata": {},
     "execution_count": 6
    }
   ],
   "source": [
    "import numpy as np\n",
    "from scipy.optimize import minimize\n",
    "\n",
    "err_data=[0.1,0.2,0.1,0.3,0.01]\n",
    "x_data=np.linspace(-3,5)\n",
    "y_data=x_data*x_data-20\n",
    "def fun(x0,x=x_data,y=y_data,err=err_data):\n",
    "    return np.sum((x0[0]*x**2+x0[1]-y)**2)\n",
    "\n",
    "a=1.0\n",
    "b=4\n",
    "result=minimize(fun=fun,x0=[a,b])\n",
    "result\n",
    "\n"
   ]
  },
  {
   "cell_type": "code",
   "execution_count": 9,
   "metadata": {},
   "outputs": [
    {
     "output_type": "execute_result",
     "data": {
      "text/plain": [
       "      fun: 4.141050714187581e-13\n",
       " hess_inv: array([[ 0.00021358, -0.00139936],\n",
       "       [-0.00139936,  0.01916963]])\n",
       "      jac: array([-1.00505597e-09,  1.38432981e-08])\n",
       "  message: 'Optimization terminated successfully.'\n",
       "     nfev: 24\n",
       "      nit: 5\n",
       "     njev: 6\n",
       "   status: 0\n",
       "  success: True\n",
       "        x: array([  0.99999999, -19.99999992])"
      ]
     },
     "metadata": {},
     "execution_count": 9
    }
   ],
   "source": [
    "import numpy as np\n",
    "from scipy.optimize import minimize\n",
    "def fun1(x):\n",
    "    return x[0]**2+x[1]**2-50\n",
    "minimize(fun1,x0=[1,0])"
   ]
  },
  {
   "cell_type": "code",
   "execution_count": null,
   "metadata": {},
   "outputs": [],
   "source": []
  }
 ]
}