{
 "metadata": {
  "language_info": {
   "codemirror_mode": {
    "name": "ipython",
    "version": 3
   },
   "file_extension": ".py",
   "mimetype": "text/x-python",
   "name": "python",
   "nbconvert_exporter": "python",
   "pygments_lexer": "ipython3",
   "version": "3.8.6-final"
  },
  "orig_nbformat": 2,
  "kernelspec": {
   "name": "Python 3.8.6 64-bit",
   "display_name": "Python 3.8.6 64-bit",
   "metadata": {
    "interpreter": {
     "hash": "dc55abbfba4177c591f83324fa5697a9eafd8002c77e792cad2bc3c2939fbd3f"
    }
   }
  }
 },
 "nbformat": 4,
 "nbformat_minor": 2,
 "cells": [
  {
   "cell_type": "code",
   "execution_count": 1,
   "metadata": {},
   "outputs": [
    {
     "output_type": "error",
     "ename": "SyntaxError",
     "evalue": "invalid syntax (<ipython-input-1-e6cd9d2010e7>, line 13)",
     "traceback": [
      "\u001b[1;36m  File \u001b[1;32m\"<ipython-input-1-e6cd9d2010e7>\"\u001b[1;36m, line \u001b[1;32m13\u001b[0m\n\u001b[1;33m    result.\u001b[0m\n\u001b[1;37m           ^\u001b[0m\n\u001b[1;31mSyntaxError\u001b[0m\u001b[1;31m:\u001b[0m invalid syntax\n"
     ]
    }
   ],
   "source": [
    "import numpy as np\n",
    "from scipy.optimize import minimize\n",
    "\n",
    "# err_data=[0.1,0.2,0.1,0.3,0.01]\n",
    "x_data=np.linspace(-3,5)\n",
    "y_data=x_data*x_data+5\n",
    "def fun(x0,x=x_data,y=y_data,err=err_data):\n",
    "    return np.sum((x0[0]*x**2+x0[1]-y)**2)\n",
    "\n",
    "a=1.0\n",
    "b=4\n",
    "result=minimize(fun=fun,x0=[a,b])\n",
    "\n"
   ]
  },
  {
   "cell_type": "code",
   "execution_count": null,
   "metadata": {},
   "outputs": [],
   "source": []
  }
 ]
}